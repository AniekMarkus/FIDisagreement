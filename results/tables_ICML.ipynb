{
 "cells": [
  {
   "cell_type": "code",
   "execution_count": 1,
   "outputs": [],
   "source": [
    "# Modules / get functions in other Python scripts\n",
    "import app.results_explorer_utils as drc\n",
    "import app.results_explorer_figures as figs\n",
    "from app.results_explorer_helpers import *\n",
    "\n",
    "from app.results_explorer_input import output_folder, color_dict\n",
    "# TODO: set output_path in here"
   ],
   "metadata": {
    "collapsed": false,
    "pycharm": {
     "name": "#%%\n"
    }
   }
  },
  {
   "cell_type": "code",
   "execution_count": null,
   "outputs": [],
   "source": [
    "# Figures in notebook\n",
    "import plotly.offline as pyo\n",
    "pyo.init_notebook_mode()"
   ],
   "metadata": {
    "collapsed": false,
    "pycharm": {
     "name": "#%%\n",
     "is_executing": true
    }
   }
  },
  {
   "cell_type": "code",
   "execution_count": 3,
   "outputs": [],
   "source": [
    "# Manual run\n",
    "dataset=\"compas\"\n",
    "version=\"v0\"\n",
    "model=\"logistic\""
   ],
   "metadata": {
    "collapsed": false,
    "pycharm": {
     "name": "#%%\n"
    }
   }
  },
  {
   "cell_type": "code",
   "execution_count": 42,
   "outputs": [],
   "source": [
    "performance = pd.read_csv(output_folder / \"result\" / str(f\"{dataset}-{model}-aggregate_perf.csv\"), index_col=0, header=None)\n",
    "performance = performance.transpose() # performance = performance.transpose().reset_index()"
   ],
   "metadata": {
    "collapsed": false,
    "pycharm": {
     "name": "#%%\n"
    }
   }
  },
  {
   "cell_type": "code",
   "execution_count": 47,
   "outputs": [],
   "source": [
    "cols = ['perf_auc', 'perf_auprc', 'pred_non-zero']\n",
    "performance.loc[:,cols] = performance.loc[:,cols].apply(lambda c: c.astype(float), axis=1)"
   ],
   "metadata": {
    "collapsed": false,
    "pycharm": {
     "name": "#%%\n"
    }
   }
  },
  {
   "cell_type": "code",
   "execution_count": 89,
   "outputs": [],
   "source": [
    "performance.groupby(by=['data', 'model', 'version'], group_keys=True, as_index=False).agg(['mean', 'std', 'count'])"
   ],
   "metadata": {
    "collapsed": false,
    "pycharm": {
     "name": "#%%\n"
    }
   }
  },
  {
   "cell_type": "code",
   "execution_count": null,
   "outputs": [],
   "source": [
    "cols = ['perf_auc', 'perf_auprc', 'pred_non-zero']\n",
    "\n",
    "for d in [\"compas\", \"german\", \"heartfailurestroke\", \"copdmortality\"]:\n",
    "    for m in [\"logistic\", \"nn\"]:\n",
    "        for v in [\"v0\"]:\n",
    "            performance = pd.read_csv(output_folder / \"result\" / str(f\"{d}-{m}-aggregate_perf.csv\"), index_col=0, header=None)\n",
    "            performance = performance.transpose().reset_index()\n",
    "\n",
    "            performance.loc[:,cols] = performance.loc[:,cols].apply(lambda c: c.astype(float), axis=1)\n",
    "\n",
    "            res = performance.groupby(by=['data', 'model', 'version'], group_keys=True, as_index=False).agg(['mean', 'std', 'count'])\n",
    "            res = res.perf_auc.reset_index()\n",
    "            res = res[(res.data == d) & (res.model == m) & (res.version == v)]\n",
    "            print(d + \" \" + m + \" \" + v + \" \" + str(np.round(res.loc[0,\"mean\"],3)) + \" \" + str(res.loc[0,\"count\"]))"
   ],
   "metadata": {
    "collapsed": false,
    "pycharm": {
     "name": "#%%\n",
     "is_executing": true
    }
   }
  }
 ],
 "metadata": {
  "kernelspec": {
   "display_name": "Python 3",
   "language": "python",
   "name": "python3"
  },
  "language_info": {
   "codemirror_mode": {
    "name": "ipython",
    "version": 2
   },
   "file_extension": ".py",
   "mimetype": "text/x-python",
   "name": "python",
   "nbconvert_exporter": "python",
   "pygments_lexer": "ipython2",
   "version": "2.7.6"
  }
 },
 "nbformat": 4,
 "nbformat_minor": 0
}