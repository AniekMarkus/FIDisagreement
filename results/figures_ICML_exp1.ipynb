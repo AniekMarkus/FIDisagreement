{
 "cells": [
  {
   "cell_type": "code",
   "execution_count": 1,
   "metadata": {
    "collapsed": true
   },
   "outputs": [],
   "source": [
    "# Modules / get functions in other Python scripts\n",
    "import app.results_explorer_utils as drc\n",
    "import app.results_explorer_figures as figs\n",
    "from app.results_explorer_helpers import *\n",
    "\n",
    "from app.results_explorer_input import output_folder, color_dict\n",
    "# TODO: set output_path in here"
   ]
  },
  {
   "cell_type": "markdown",
   "source": [],
   "metadata": {
    "collapsed": false
   }
  },
  {
   "cell_type": "code",
   "execution_count": null,
   "outputs": [],
   "source": [
    "# Figures in notebook\n",
    "import plotly.offline as pyo\n",
    "pyo.init_notebook_mode()"
   ],
   "metadata": {
    "collapsed": false,
    "pycharm": {
     "name": "#%%\n",
     "is_executing": true
    }
   }
  },
  {
   "cell_type": "code",
   "execution_count": null,
   "outputs": [],
   "source": [
    "# Experiments 1:\n",
    "fimethod=['permutation_auc', 'permutation_mse', 'permutation_ba', 'loco_auc', 'loco_mse', 'loco_ba', 'kernelshap', 'sage_marginal', 'sage_conditional']\n",
    "eval_metrics = ['overlap', 'sign', 'ranksign', 'kendalltau', 'mae', 'rmse'] # Changed from R2 to RMSE\n",
    "rank_metrics = ['overlap', 'sign', 'ranksign', 'kendalltau']\n",
    "value_metrics = ['mae', 'rmse']\n",
    "\n",
    "for d in [\"compas\", \"copdmortality\", \"heartfailurestroke\", \"german\"]:\n",
    "    for m in [\"logistic\"]:\n",
    "        for v in [\"v0\"]:\n",
    "            figs.fi_values(output_folder, color_dict, d, v, m, fimethod)\n",
    "            figs.fi_ranking(output_folder, color_dict, d, v, m, fimethod)\n",
    "            figs.fi_topfeatures(output_folder, color_dict, d, v, m, fimethod, k=5)\n",
    "\n",
    "            figs.fi_metrics(output_folder, \"single\", color_dict, d, v, m, fimethod, eval_metrics, False) # single metrics\n",
    "            figs.fi_metrics(output_folder, \"all\", color_dict, d, v, m, fimethod, eval_metrics, True) # group all metrics\n",
    "\n",
    "            figs.heatmap_disagreement(output_folder, \"all\", d, v, m, fimethod, eval_metrics) # heatmap all metrics\n",
    "            figs.heatmap_disagreement(output_folder, \"value\", d, v, m, fimethod, value_metrics) # heatmap value metrics\n",
    "            figs.heatmap_disagreement(output_folder, \"rank\", d, v, m, fimethod, rank_metrics) # heatmap rank metrics\n",
    "\n",
    "            for metric in eval_metrics:\n",
    "                figs.heatmap_disagreement(output_folder, str(metric), d, v, m, fimethod, metric) # heatmap single metrics\n",
    "\n",
    "# TODO: measure standard deviation"
   ],
   "metadata": {
    "collapsed": false,
    "pycharm": {
     "name": "#%%\n",
     "is_executing": true
    }
   }
  },
  {
   "cell_type": "code",
   "execution_count": 3,
   "outputs": [],
   "source": [
    "# Manual run of figures\n",
    "dataset=\"german\"\n",
    "version=\"v0\"\n",
    "model=\"logistic\"\n",
    "fimethod=['permutation_auc', 'permutation_mse', 'permutation_ba', 'loco_auc', 'loco_mse', 'loco_ba', 'kernelshap', 'sage_marginal', 'sage_conditional']"
   ],
   "metadata": {
    "collapsed": false,
    "pycharm": {
     "name": "#%%\n"
    }
   }
  },
  {
   "cell_type": "code",
   "execution_count": null,
   "outputs": [],
   "source": [
    "# Get feature importance values and ranking\n",
    "fi_rank, fi_values, settings_data = get_rank(output_folder, dataset, version, model, fimethod, scale=True)\n",
    "\n",
    "# Combine data\n",
    "# fi_rank = combine_fi(fi_rank, settings_data)\n",
    "# fi_values = combine_fi(fi_values, settings_data)"
   ],
   "metadata": {
    "collapsed": false,
    "pycharm": {
     "name": "#%%\n",
     "is_executing": true
    }
   }
  },
  {
   "cell_type": "code",
   "execution_count": null,
   "outputs": [],
   "source": [
    "print(fi_rank)\n",
    "print(fi_values)"
   ],
   "metadata": {
    "collapsed": false,
    "pycharm": {
     "name": "#%%\n",
     "is_executing": true
    }
   }
  },
  {
   "cell_type": "code",
   "execution_count": null,
   "outputs": [],
   "source": [
    "fi_plot = figs.fi_values(output_folder, color_dict, dataset, version, model, fimethod)\n",
    "fi_plot.show()"
   ],
   "metadata": {
    "collapsed": false,
    "pycharm": {
     "name": "#%%\n",
     "is_executing": true
    }
   }
  },
  {
   "cell_type": "code",
   "execution_count": null,
   "outputs": [],
   "source": [
    "fi_rank = figs.fi_ranking(output_folder, color_dict, dataset, version, model, fimethod)\n",
    "fi_rank.show()"
   ],
   "metadata": {
    "collapsed": false,
    "pycharm": {
     "name": "#%%\n",
     "is_executing": true
    }
   }
  },
  {
   "cell_type": "code",
   "execution_count": null,
   "outputs": [],
   "source": [
    "fi_top = figs.fi_topfeatures(output_folder, color_dict, dataset, version, model, fimethod, k=5)\n",
    "fi_top.show()"
   ],
   "metadata": {
    "collapsed": false,
    "pycharm": {
     "name": "#%%\n",
     "is_executing": true
    }
   }
  },
  {
   "cell_type": "code",
   "execution_count": null,
   "outputs": [],
   "source": [
    "fi_metrics = figs.fi_metrics(output_folder, \"single\", color_dict, dataset, version, model, fimethod, eval_metrics, summarize=False)\n",
    "fi_metrics.show()"
   ],
   "metadata": {
    "collapsed": false,
    "pycharm": {
     "name": "#%%\n",
     "is_executing": true
    }
   }
  },
  {
   "cell_type": "code",
   "execution_count": null,
   "outputs": [],
   "source": [
    "fi_metrics = figs.fi_metrics(output_folder, \"group\", color_dict, dataset, version, model, fimethod, eval_metrics, summarize=True)\n",
    "fi_metrics.show()"
   ],
   "metadata": {
    "collapsed": false,
    "pycharm": {
     "name": "#%%\n",
     "is_executing": true
    }
   }
  }
 ],
 "metadata": {
  "kernelspec": {
   "display_name": "Python 3",
   "language": "python",
   "name": "python3"
  },
  "language_info": {
   "codemirror_mode": {
    "name": "ipython",
    "version": 2
   },
   "file_extension": ".py",
   "mimetype": "text/x-python",
   "name": "python",
   "nbconvert_exporter": "python",
   "pygments_lexer": "ipython2",
   "version": "2.7.6"
  }
 },
 "nbformat": 4,
 "nbformat_minor": 0
}