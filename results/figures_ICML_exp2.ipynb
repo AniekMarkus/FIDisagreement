{
 "cells": [
  {
   "cell_type": "code",
   "execution_count": null,
   "metadata": {},
   "outputs": [],
   "source": [
    "# Modules / get functions in other Python scripts\n",
    "import app.results_explorer_utils as drc\n",
    "import app.results_explorer_figures as figs\n",
    "from app.results_explorer_helpers import *\n",
    "\n",
    "from app.results_explorer_input import output_folder, color_dict, modify_params\n",
    "# TODO: set output_path in here"
   ]
  },
  {
   "cell_type": "code",
   "execution_count": null,
   "metadata": {
    "pycharm": {
     "name": "#%%\n"
    }
   },
   "outputs": [],
   "source": [
    "# Figures in notebook\n",
    "import plotly.offline as pyo\n",
    "pyo.init_notebook_mode()"
   ]
  },
  {
   "cell_type": "code",
   "execution_count": null,
   "metadata": {
    "pycharm": {
     "name": "#%%\n"
    }
   },
   "outputs": [],
   "source": [
    "# Check\n",
    "modify_params"
   ]
  },
  {
   "cell_type": "code",
   "execution_count": null,
   "metadata": {
    "pycharm": {
     "name": "#%%\n"
    }
   },
   "outputs": [],
   "source": [
    "# Experiments 2:\n",
    "fimethod=['permutation_auc', 'permutation_mse', 'loco_auc', 'loco_mse', 'kernelshap', 'sage_marginal', 'sage_conditional']\n",
    "eval_metrics = ['overlap', 'sign', 'ranksign', 'kendalltau', 'mae', 'rmse']\n",
    "top_metrics = ['overlap', 'sign', 'ranksign']  # can be compared between data and models, considers top variables\n",
    "# order_metrics = ['kendalltau'] # can be compared between data and models, considers ordering variables\n",
    "value_metrics = ['mae', 'rmse'] # are normalised, can only be compared on relative scale\n",
    "\n",
    "for d in [\"compas\", \"german\"]:\n",
    "    for m in [\"logistic\", \"nn\"]:\n",
    "        for  v in [\"v1\", \"v2\", \"v3\", \"v4\", \"v5\"]:\n",
    "\n",
    "            # figs.heatmap_disagreement_changes(output_folder, \"top\", d, v, m, fimethod, top_metrics) # heatmap top metrics\n",
    "\n",
    "            figs.complexity_plot(output_folder, \"top\", color_dict, modify_params, d, v, m, fimethod, top_metrics) # complexity top metrics\n",
    "            figs.complexity_plot(output_folder, \"value\", color_dict, modify_params, d, v, m, fimethod, value_metrics) # complexity value metrics\n",
    "\n",
    "            for metric in ['kendalltau']:\n",
    "                figs.complexity_plot(output_folder, str(metric), color_dict, modify_params, d, v, m, fimethod, metric)"
   ]
  },
  {
   "cell_type": "markdown",
   "metadata": {
    "pycharm": {
     "name": "#%% md\n"
    }
   },
   "source": []
  }
 ],
 "metadata": {
  "kernelspec": {
   "display_name": "Python 3",
   "language": "python",
   "name": "python3"
  },
  "language_info": {
   "codemirror_mode": {
    "name": "ipython",
    "version": 3
   },
   "file_extension": ".py",
   "mimetype": "text/x-python",
   "name": "python",
   "nbconvert_exporter": "python",
   "pygments_lexer": "ipython3",
   "version": "3.8.5"
  }
 },
 "nbformat": 4,
 "nbformat_minor": 1
}