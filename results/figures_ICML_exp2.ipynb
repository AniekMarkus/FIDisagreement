{
 "cells": [
  {
   "cell_type": "code",
   "execution_count": 1,
   "metadata": {
    "collapsed": true
   },
   "outputs": [],
   "source": [
    "# Modules / get functions in other Python scripts\n",
    "import app.results_explorer_utils as drc\n",
    "import app.results_explorer_figures as figs\n",
    "from app.results_explorer_helpers import *\n",
    "\n",
    "from app.results_explorer_input import output_folder, color_dict, modify_params\n",
    "# TODO: set output_path in here"
   ]
  },
  {
   "cell_type": "code",
   "execution_count": null,
   "outputs": [],
   "source": [
    "# Figures in notebook\n",
    "import plotly.offline as pyo\n",
    "pyo.init_notebook_mode()"
   ],
   "metadata": {
    "collapsed": false,
    "pycharm": {
     "name": "#%%\n",
     "is_executing": true
    }
   }
  },
  {
   "cell_type": "code",
   "execution_count": null,
   "outputs": [],
   "source": [
    "# Check\n",
    "modify_params"
   ],
   "metadata": {
    "collapsed": false,
    "pycharm": {
     "name": "#%%\n",
     "is_executing": true
    }
   }
  },
  {
   "cell_type": "code",
   "execution_count": 5,
   "outputs": [],
   "source": [
    "# Experiments 2:\n",
    "fimethod=['permutation_auc', 'permutation_mse', 'permutation_ba', 'loco_auc', 'loco_mse', 'loco_ba', 'kernelshap', 'sage_marginal', 'sage_conditional']\n",
    "eval_metrics = ['overlap', 'sign', 'ranksign', 'kendalltau', 'mae', 'rmse'] # Changed from R2 to RMSE\n",
    "rank_metrics = ['overlap', 'sign', 'ranksign', 'kendalltau']\n",
    "value_metrics = ['mae', 'rmse']\n",
    "\n",
    "for d in [\"compas\", \"german\"]:\n",
    "    for m in [\"logistic\"]:\n",
    "        for  v in [\"v1\", \"v2\", \"v3\", \"v4\", \"v5\"]:\n",
    "            complexity_fig = figs.complexity_plot(output_folder, \"all\", color_dict, modify_params, d, v, m, fimethod, eval_metrics) # complexity all metrics\n",
    "            complexity_fig = figs.complexity_plot(output_folder, \"value\", color_dict, modify_params, d, v, m, fimethod, value_metrics) # complexity value metrics\n",
    "            complexity_fig = figs.complexity_plot(output_folder, \"rank\", color_dict, modify_params, d, v, m, fimethod, rank_metrics) # complexity rank metrics\n",
    "\n",
    "            for metric in eval_metrics:\n",
    "                complexity_observations = figs.complexity_plot(output_folder, str(metric), color_dict, modify_params, d, v, m, fimethod, metric)\n"
   ],
   "metadata": {
    "collapsed": false,
    "pycharm": {
     "name": "#%%\n"
    }
   }
  },
  {
   "cell_type": "markdown",
   "source": [],
   "metadata": {
    "collapsed": false,
    "pycharm": {
     "name": "#%% md\n"
    }
   }
  }
 ],
 "metadata": {
  "kernelspec": {
   "display_name": "Python 3",
   "language": "python",
   "name": "python3"
  },
  "language_info": {
   "codemirror_mode": {
    "name": "ipython",
    "version": 2
   },
   "file_extension": ".py",
   "mimetype": "text/x-python",
   "name": "python",
   "nbconvert_exporter": "python",
   "pygments_lexer": "ipython2",
   "version": "2.7.6"
  }
 },
 "nbformat": 4,
 "nbformat_minor": 0
}